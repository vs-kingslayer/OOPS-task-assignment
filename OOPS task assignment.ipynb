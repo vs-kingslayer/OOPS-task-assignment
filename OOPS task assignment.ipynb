{
 "cells": [
  {
   "cell_type": "markdown",
   "id": "201e0d30-4b53-4629-9ec6-de970aa1d145",
   "metadata": {},
   "source": [
    "Q1, Create a vehicle class with an init method having instance variables as name_of_vehicle, max_speed \n",
    "and average_of_vehicle. \n",
    "\n"
   ]
  },
  {
   "cell_type": "code",
   "execution_count": 1,
   "id": "fa8a4525-15da-45ff-a498-8ef598263571",
   "metadata": {},
   "outputs": [],
   "source": [
    "class vehicle_class:\n",
    "    def __init__(self,name_of_vehicle,max_speed,average_of_vehicle):\n",
    "        self.name_of_vehicle=name_of_vehicle\n",
    "        self.max_speed=max_speed\n",
    "        self.average_of_vehicle=average_of_vehicle\n",
    "        \n",
    "    def return_vehicle_detail(self):\n",
    "        return self.name_of_vehicle,self.max_speed,self.average_of_vehicle"
   ]
  },
  {
   "cell_type": "code",
   "execution_count": 2,
   "id": "37185277-73c4-4ee5-9825-45f1509b3031",
   "metadata": {},
   "outputs": [],
   "source": [
    "car = vehicle_class(\"suv\",150,80)"
   ]
  },
  {
   "cell_type": "code",
   "execution_count": 3,
   "id": "ccd917c5-5361-4672-943f-f73606fe1647",
   "metadata": {},
   "outputs": [
    {
     "data": {
      "text/plain": [
       "<bound method vehicle_class.return_vehicle_detail of <__main__.vehicle_class object at 0x7f6f3be9e6e0>>"
      ]
     },
     "execution_count": 3,
     "metadata": {},
     "output_type": "execute_result"
    }
   ],
   "source": [
    "car.return_vehicle_detail"
   ]
  },
  {
   "cell_type": "code",
   "execution_count": 4,
   "id": "ccc20995-cc7d-42be-bedc-d7f5a30217ca",
   "metadata": {},
   "outputs": [
    {
     "data": {
      "text/plain": [
       "('suv', 150, 80)"
      ]
     },
     "execution_count": 4,
     "metadata": {},
     "output_type": "execute_result"
    }
   ],
   "source": [
    "car.return_vehicle_detail()"
   ]
  },
  {
   "cell_type": "markdown",
   "id": "1a7647c9-df29-46b9-9c20-3c62b4c22cdb",
   "metadata": {},
   "source": [
    "Q2.  Create a child class car from the vehicle class created in Que 1, which will inherit the vehicle class. \n",
    "Create a method named seating_capacity which takes capacity as an argument and returns the name of \n",
    "the vehicle and its seating capacity."
   ]
  },
  {
   "cell_type": "code",
   "execution_count": 8,
   "id": "93d89f6e-c6ba-4430-b08f-a4b5297bef07",
   "metadata": {},
   "outputs": [],
   "source": [
    "class car(vehicle_class):\n",
    "    def __init__(self,name_of_vehicle,seating_capacity):\n",
    "        return self.seating_capacity,self.name_of_vehicle"
   ]
  },
  {
   "cell_type": "markdown",
   "id": "5f253310-30d3-46cf-8b08-378053def0e1",
   "metadata": {},
   "source": [
    "Q3. What is multiple inheritance? Write a python code to demonstrate multiple inheritance"
   ]
  },
  {
   "cell_type": "raw",
   "id": "d65d77ed-0a1d-4cc0-95a8-799b6fdd683c",
   "metadata": {},
   "source": [
    "multiple inheritance means one class can able to access the data of both the classes     \n",
    "        \n",
    "        \n",
    "           \n",
    "                "
   ]
  },
  {
   "cell_type": "markdown",
   "id": "c7849c84-63b2-4f41-ac78-0253828afb30",
   "metadata": {},
   "source": [
    "for example:"
   ]
  },
  {
   "cell_type": "code",
   "execution_count": 10,
   "id": "f6a6f499-0f64-40d4-9784-7184cf822882",
   "metadata": {},
   "outputs": [],
   "source": [
    "class class1:\n",
    "    def test_class1(self):\n",
    "        return \"hlo class1\""
   ]
  },
  {
   "cell_type": "code",
   "execution_count": 12,
   "id": "45fc9f73-dc7e-4c89-a5d9-4d5581fb1d91",
   "metadata": {},
   "outputs": [],
   "source": [
    "class class2:\n",
    "    def test_class2(self):\n",
    "        return \"hlo class2\""
   ]
  },
  {
   "cell_type": "code",
   "execution_count": 13,
   "id": "dd4222ca-23e7-4b62-98c1-85b4679e4f03",
   "metadata": {},
   "outputs": [],
   "source": [
    "class class3(class1,class2):\n",
    "    pass"
   ]
  },
  {
   "cell_type": "code",
   "execution_count": 14,
   "id": "5dd9325f-ae1b-4037-a8ee-d0b890a28592",
   "metadata": {},
   "outputs": [],
   "source": [
    "obj_class3=class3()"
   ]
  },
  {
   "cell_type": "code",
   "execution_count": 16,
   "id": "198bf39f-3e80-459b-9111-57e20be4d51b",
   "metadata": {},
   "outputs": [
    {
     "data": {
      "text/plain": [
       "'hlo class2'"
      ]
     },
     "execution_count": 16,
     "metadata": {},
     "output_type": "execute_result"
    }
   ],
   "source": [
    "obj_class3.test_class2()"
   ]
  },
  {
   "cell_type": "code",
   "execution_count": 17,
   "id": "2e868379-7d31-4cd4-8d81-ededd4a58542",
   "metadata": {},
   "outputs": [
    {
     "data": {
      "text/plain": [
       "'hlo class1'"
      ]
     },
     "execution_count": 17,
     "metadata": {},
     "output_type": "execute_result"
    }
   ],
   "source": [
    "obj_class3.test_class1()"
   ]
  },
  {
   "cell_type": "markdown",
   "id": "1ea18cec-ca5b-4cb8-bb69-f6f4d46c58c7",
   "metadata": {},
   "source": [
    "Q4. What are getter and setter in python? Create a class and create a getter and a setter method in this \n",
    "class"
   ]
  },
  {
   "cell_type": "raw",
   "id": "8be79171-2230-4060-9810-cbacad71306b",
   "metadata": {},
   "source": [
    "getter and setter methods provide an interface for retrieving and updating an object’s state while hiding the implementation details."
   ]
  },
  {
   "cell_type": "markdown",
   "id": "7660ec66-be91-4d80-9007-ced9cb1adecd",
   "metadata": {},
   "source": [
    "for example:"
   ]
  },
  {
   "cell_type": "code",
   "execution_count": 18,
   "id": "9508820b-72c2-4ba6-a135-8c27367a1f43",
   "metadata": {},
   "outputs": [],
   "source": [
    "class Person:\n",
    "    def __init__(self, name, age):\n",
    "        self._name = name\n",
    "        self._age = age"
   ]
  },
  {
   "cell_type": "code",
   "execution_count": 19,
   "id": "309bd39b-3d1f-458f-abce-4590a82e4366",
   "metadata": {},
   "outputs": [],
   "source": [
    "def get_name(self):\n",
    "        return self._name"
   ]
  },
  {
   "cell_type": "code",
   "execution_count": 20,
   "id": "afc5c72a-db8d-4a8b-a968-59c05336bbe9",
   "metadata": {},
   "outputs": [],
   "source": [
    "def set_name(self, new_name):\n",
    "        self._name = new_name"
   ]
  },
  {
   "cell_type": "code",
   "execution_count": 21,
   "id": "59dce32d-8ca9-4d1d-b269-b46067e4ce88",
   "metadata": {},
   "outputs": [],
   "source": [
    "def get_age(self):\n",
    "        return self._age"
   ]
  },
  {
   "cell_type": "code",
   "execution_count": 22,
   "id": "81ad230e-d5e8-48c6-ab0c-10efa7ef5e87",
   "metadata": {},
   "outputs": [],
   "source": [
    "def set_age(self, new_age):\n",
    "        if new_age >= 0:\n",
    "            self._age = new_age\n",
    "        else:\n",
    "            print(\"Age cannot be negative!\")"
   ]
  },
  {
   "cell_type": "code",
   "execution_count": 23,
   "id": "e21de6c5-8ced-448b-8c66-7984fa8e7e11",
   "metadata": {},
   "outputs": [],
   "source": [
    "person1 = Person(\"Alice\", 30)"
   ]
  },
  {
   "cell_type": "markdown",
   "id": "acdab296-f116-4a79-9824-819d3e4962dd",
   "metadata": {},
   "source": [
    "Q5.What is method overriding in python? Write a python code to demonstrate method overriding."
   ]
  },
  {
   "cell_type": "raw",
   "id": "07b328b5-a2b6-44a8-86df-e2c2c83514a0",
   "metadata": {},
   "source": [
    "Method overriding in Python allows a subclass to provide its own implementation for a method that is already defined in its superclass."
   ]
  },
  {
   "cell_type": "code",
   "execution_count": 28,
   "id": "12be2891-949c-4cb5-b084-70013e7c70fd",
   "metadata": {},
   "outputs": [],
   "source": [
    "class Animal:\n",
    "    def speak(self):\n",
    "        print(\"Animal speaks something...\")\n"
   ]
  },
  {
   "cell_type": "code",
   "execution_count": 29,
   "id": "47f36b9d-bbbc-41f8-8893-f3c7656b5a22",
   "metadata": {},
   "outputs": [],
   "source": [
    "class Dog(Animal):\n",
    "    def speak(self):\n",
    "        print(\"Dog barks!\")"
   ]
  },
  {
   "cell_type": "code",
   "execution_count": 30,
   "id": "5bbfe3cf-3a40-4751-858e-a30ab1a656a7",
   "metadata": {},
   "outputs": [],
   "source": [
    "class Cat(Animal):\n",
    "    def speak(self):\n",
    "        print(\"Cat meows!\")"
   ]
  },
  {
   "cell_type": "code",
   "execution_count": 31,
   "id": "ef2b02ea-a923-430e-9991-74a4f8023529",
   "metadata": {},
   "outputs": [],
   "source": [
    "dog_instance = Dog()\n",
    "cat_instance = Cat()\n"
   ]
  },
  {
   "cell_type": "code",
   "execution_count": 32,
   "id": "90280a72-cc94-4617-a536-f3a5580cf8c5",
   "metadata": {},
   "outputs": [
    {
     "name": "stdout",
     "output_type": "stream",
     "text": [
      "Dog barks!\n",
      "Cat meows!\n"
     ]
    }
   ],
   "source": [
    "dog_instance.speak()  \n",
    "cat_instance.speak()"
   ]
  },
  {
   "cell_type": "code",
   "execution_count": null,
   "id": "626020f3-f6dc-4351-802a-836008fcc35f",
   "metadata": {},
   "outputs": [],
   "source": []
  }
 ],
 "metadata": {
  "kernelspec": {
   "display_name": "Python 3 (ipykernel)",
   "language": "python",
   "name": "python3"
  },
  "language_info": {
   "codemirror_mode": {
    "name": "ipython",
    "version": 3
   },
   "file_extension": ".py",
   "mimetype": "text/x-python",
   "name": "python",
   "nbconvert_exporter": "python",
   "pygments_lexer": "ipython3",
   "version": "3.10.8"
  }
 },
 "nbformat": 4,
 "nbformat_minor": 5
}
